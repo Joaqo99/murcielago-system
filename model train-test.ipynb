{
 "cells": [
  {
   "cell_type": "markdown",
   "metadata": {},
   "source": [
    "# Murcielago System V1 - Training & testing"
   ]
  },
  {
   "cell_type": "code",
   "execution_count": 1,
   "metadata": {},
   "outputs": [],
   "source": [
    "import torch\n",
    "import torchaudio\n",
    "from torch.utils.data import DataLoader\n",
    "from custom_dataset import GunShotsNoisesDataset, split_dataset\n",
    "import numpy as np\n",
    "from cnn import ShotDetectionNetwork\n",
    "from torch import nn\n",
    "from train_test_functions import train_step, test_step, eval_model, accuracy_fn"
   ]
  },
  {
   "cell_type": "markdown",
   "metadata": {},
   "source": [
    "## 1) Data preparing: Dataset and Dataloaders"
   ]
  },
  {
   "cell_type": "code",
   "execution_count": 2,
   "metadata": {},
   "outputs": [],
   "source": [
    "metadata_file = \"./dataset/metadata.xlsx\"\n",
    "audios_dir = \"./dataset\"\n",
    "fs = 48000\n",
    "scales = np.arange(1, 129)\n",
    "transformation_dict = {\"wavelet\": \"cmor\",\"scales\":scales}\n",
    "\n",
    "GSN_visualize = GunShotsNoisesDataset(metadata_file, audios_dir, transformation_dict, fs, 0.01) #this returns audio waveform to analyse samples\n",
    "\n",
    "GSN_dataset = GunShotsNoisesDataset(metadata_file, audios_dir, transformation_dict, fs)"
   ]
  },
  {
   "cell_type": "code",
   "execution_count": 3,
   "metadata": {},
   "outputs": [],
   "source": [
    "batch_size = 4\n",
    "train_data, test_data = split_dataset(GSN_dataset, 0.04)\n",
    "\n",
    "train_dataloader = DataLoader(train_data, batch_size=batch_size, shuffle=False)\n",
    "test_dataloader = DataLoader(test_data, batch_size=batch_size, shuffle=False)"
   ]
  },
  {
   "cell_type": "markdown",
   "metadata": {},
   "source": [
    "## 2) Model building"
   ]
  },
  {
   "cell_type": "code",
   "execution_count": 4,
   "metadata": {},
   "outputs": [
    {
     "name": "stdout",
     "output_type": "stream",
     "text": [
      "ShotDetectionNetwork(\n",
      "  (conv1): Sequential(\n",
      "    (0): Conv2d(1, 64, kernel_size=(4, 4), stride=(2, 2), padding=(1, 1))\n",
      "    (1): Conv2d(64, 16, kernel_size=(4, 4), stride=(2, 2), padding=(1, 1))\n",
      "    (2): MaxPool2d(kernel_size=2, stride=2, padding=0, dilation=1, ceil_mode=False)\n",
      "  )\n",
      "  (conv2): Sequential(\n",
      "    (0): Conv2d(16, 1, kernel_size=(2, 2), stride=(2, 2), padding=(1, 1))\n",
      "    (1): MaxPool2d(kernel_size=2, stride=2, padding=0, dilation=1, ceil_mode=False)\n",
      "    (2): ReLU()\n",
      "  )\n",
      "  (classifier): Sequential(\n",
      "    (0): Flatten(start_dim=1, end_dim=-1)\n",
      "    (1): Linear(in_features=16, out_features=2, bias=True)\n",
      "    (2): Softmax(dim=1)\n",
      "  )\n",
      ")\n"
     ]
    }
   ],
   "source": [
    "mur_cnn_v1 = ShotDetectionNetwork(64)\n",
    "print(mur_cnn_v1)"
   ]
  },
  {
   "cell_type": "markdown",
   "metadata": {},
   "source": [
    "## 3) Train and Test"
   ]
  },
  {
   "cell_type": "code",
   "execution_count": 5,
   "metadata": {},
   "outputs": [],
   "source": [
    "learn_rate = 0.01\n",
    "loss_fn = nn.CrossEntropyLoss()\n",
    "optim = torch.optim.SGD(mur_cnn_v1.parameters(), lr=learn_rate)"
   ]
  },
  {
   "cell_type": "code",
   "execution_count": 6,
   "metadata": {},
   "outputs": [
    {
     "name": "stderr",
     "output_type": "stream",
     "text": [
      "c:\\Users\\joaqo\\anaconda3\\envs\\Sonido\\Lib\\site-packages\\pywt\\_cwt.py:117: FutureWarning: Wavelets from the family cmor, without parameters specified in the name are deprecated. The name should takethe form cmorB-C where B and C are floats representing the bandwidth frequency and center frequency, respectively (example: cmor1.5-1.0).\n",
      "  wavelet = DiscreteContinuousWavelet(wavelet)\n",
      "c:\\Users\\joaqo\\OneDrive\\Escritorio\\Programacion\\Murcielago System\\custom_dataset.py:147: UserWarning: ComplexHalf support is experimental and many operators don't support it yet. (Triggered internally at C:\\cb\\pytorch_1000000000000\\work\\aten\\src\\ATen\\EmptyTensor.cpp:47.)\n",
      "  coeffs = torch.tensor(coeffs, dtype=torch.complex32)\n"
     ]
    },
    {
     "name": "stdout",
     "output_type": "stream",
     "text": [
      "Train loss: 0.69601 | Train accuracy: 49.16667%\n",
      "Test loss: 0.69335 | Test accuracy: 50.00000%\n",
      "Train loss: 0.58799 | Train accuracy: 71.45833%\n",
      "Test loss: 0.76115 | Test accuracy: 50.00000%\n",
      "Train loss: 0.58226 | Train accuracy: 78.75000%\n",
      "Test loss: 0.76212 | Test accuracy: 50.00000%\n",
      "Train loss: 0.56242 | Train accuracy: 79.37500%\n",
      "Test loss: 0.75635 | Test accuracy: 50.00000%\n",
      "Train loss: 0.54875 | Train accuracy: 78.95833%\n",
      "Test loss: 0.73961 | Test accuracy: 50.00000%\n",
      "Train loss: 0.51995 | Train accuracy: 81.45833%\n",
      "Test loss: 0.73485 | Test accuracy: 50.00000%\n",
      "Train loss: 0.49210 | Train accuracy: 83.54167%\n",
      "Test loss: 0.73669 | Test accuracy: 50.00000%\n",
      "Train loss: 0.47309 | Train accuracy: 84.58333%\n",
      "Test loss: 0.73867 | Test accuracy: 50.00000%\n",
      "Train loss: 0.43135 | Train accuracy: 88.75000%\n",
      "Test loss: 0.76125 | Test accuracy: 50.00000%\n",
      "Train loss: 0.42640 | Train accuracy: 89.37500%\n",
      "Test loss: 0.75900 | Test accuracy: 50.00000%\n",
      "Train loss: 0.43208 | Train accuracy: 88.75000%\n",
      "Test loss: 0.73592 | Test accuracy: 50.00000%\n",
      "Train loss: 0.42652 | Train accuracy: 88.75000%\n",
      "Test loss: 0.74711 | Test accuracy: 50.00000%\n",
      "Train loss: 0.44173 | Train accuracy: 86.04167%\n",
      "Test loss: 0.63779 | Test accuracy: 64.37500%\n",
      "Train loss: 0.42004 | Train accuracy: 89.79167%\n",
      "Test loss: 0.69470 | Test accuracy: 50.83333%\n",
      "Train loss: 0.43015 | Train accuracy: 87.91667%\n",
      "Test loss: 0.64190 | Test accuracy: 62.91667%\n",
      "Train loss: 0.42078 | Train accuracy: 89.58333%\n",
      "Test loss: 0.63522 | Test accuracy: 62.91667%\n",
      "Train loss: 0.40822 | Train accuracy: 91.87500%\n",
      "Test loss: 0.65395 | Test accuracy: 59.37500%\n",
      "Train loss: 0.42760 | Train accuracy: 88.75000%\n",
      "Test loss: 0.57705 | Test accuracy: 76.25000%\n",
      "Train loss: 0.40935 | Train accuracy: 91.04167%\n",
      "Test loss: 0.54643 | Test accuracy: 79.37500%\n",
      "Train loss: 0.40366 | Train accuracy: 92.08333%\n",
      "Test loss: 0.60363 | Test accuracy: 73.75000%\n"
     ]
    }
   ],
   "source": [
    "epochs = 20\n",
    "\n",
    "for epoch in range(epochs):\n",
    "    train_step(mur_cnn_v1, train_dataloader, loss_fn, optim, accuracy_fn=accuracy_fn)\n",
    "    test_step(mur_cnn_v1, train_dataloader, loss_fn, accuracy_fn=accuracy_fn)\n",
    "    "
   ]
  },
  {
   "cell_type": "markdown",
   "metadata": {},
   "source": [
    "## 4) Results"
   ]
  },
  {
   "cell_type": "code",
   "execution_count": null,
   "metadata": {},
   "outputs": [],
   "source": []
  },
  {
   "cell_type": "markdown",
   "metadata": {},
   "source": []
  }
 ],
 "metadata": {
  "kernelspec": {
   "display_name": "Sonido",
   "language": "python",
   "name": "python3"
  },
  "language_info": {
   "codemirror_mode": {
    "name": "ipython",
    "version": 3
   },
   "file_extension": ".py",
   "mimetype": "text/x-python",
   "name": "python",
   "nbconvert_exporter": "python",
   "pygments_lexer": "ipython3",
   "version": "3.12.3"
  }
 },
 "nbformat": 4,
 "nbformat_minor": 2
}
